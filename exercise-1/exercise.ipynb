{
 "cells": [
  {
   "cell_type": "markdown",
   "metadata": {},
   "source": [
    "# Exercise 1\n",
    "Add the specified code for each code cell, running the cells _in order_."
   ]
  },
  {
   "cell_type": "markdown",
   "metadata": {},
   "source": [
    "Create a variable **`deck`** that represents a deck of [playing cards](https://en.wikipedia.org/wiki/Playing_card). This variable should be a _list_ of 52 elements, each of which is a **tuple** with two values:\n",
    "- a string representing the suit, either `'hearts'`, `'diamonds'`, `'clubs'`, or `'spades'`.\n",
    "- an interger representing the rank, ranging from 2 to 14 inclusive (11-14 represent a Jack, Queen, King, or Ace respectively).\n",
    "\n",
    "_Tip:_ use a pair of nested loops to add each combination of suit and rank to the `deck` list!"
   ]
  },
  {
   "cell_type": "code",
   "execution_count": 16,
   "metadata": {},
   "outputs": [],
   "source": [
    "deck=[]\n",
    "suits = [\"hearts\",\"diamonds\",\"clubs\",\"spades\"]\n",
    "for suit in suits:\n",
    "    for i in range(2,15):\n",
    "        card_tuple = (i,suit)\n",
    "        deck.append(card_tuple)"
   ]
  },
  {
   "cell_type": "code",
   "execution_count": 17,
   "metadata": {},
   "outputs": [
    {
     "name": "stdout",
     "output_type": "stream",
     "text": [
      "[(2, 'hearts'), (3, 'hearts'), (4, 'hearts'), (5, 'hearts'), (6, 'hearts'), (7, 'hearts'), (8, 'hearts'), (9, 'hearts'), (10, 'hearts'), (11, 'hearts'), (12, 'hearts'), (13, 'hearts'), (14, 'hearts'), (2, 'diamonds'), (3, 'diamonds'), (4, 'diamonds'), (5, 'diamonds'), (6, 'diamonds'), (7, 'diamonds'), (8, 'diamonds'), (9, 'diamonds'), (10, 'diamonds'), (11, 'diamonds'), (12, 'diamonds'), (13, 'diamonds'), (14, 'diamonds'), (2, 'clubs'), (3, 'clubs'), (4, 'clubs'), (5, 'clubs'), (6, 'clubs'), (7, 'clubs'), (8, 'clubs'), (9, 'clubs'), (10, 'clubs'), (11, 'clubs'), (12, 'clubs'), (13, 'clubs'), (14, 'clubs'), (2, 'spades'), (3, 'spades'), (4, 'spades'), (5, 'spades'), (6, 'spades'), (7, 'spades'), (8, 'spades'), (9, 'spades'), (10, 'spades'), (11, 'spades'), (12, 'spades'), (13, 'spades'), (14, 'spades')]\n"
     ]
    }
   ],
   "source": [
    "print(deck)"
   ]
  },
  {
   "cell_type": "markdown",
   "metadata": {},
   "source": [
    "Create a list **hand** that represents a hand of [Poker](https://en.wikipedia.org/wiki/Poker) (5-card draw). Add 5 cards from the `deck` to this list.\n",
    "- You can add 5 specific cards for testing (check their indices!), or use the `random.shuffle()` function to shuffle the deck and then _slice_ 5 cards from the top.\n",
    "\n",
    "Print out the `hand` so you know what you are dealing with!"
   ]
  },
  {
   "cell_type": "code",
   "execution_count": 69,
   "metadata": {},
   "outputs": [
    {
     "name": "stdout",
     "output_type": "stream",
     "text": [
      "[(10, 'clubs'), (6, 'diamonds'), (9, 'spades'), (9, 'diamonds'), (12, 'diamonds')]\n"
     ]
    }
   ],
   "source": [
    "import random\n",
    "random.shuffle(deck)\n",
    "hand = deck[:5]\n",
    "print(hand)"
   ]
  },
  {
   "cell_type": "markdown",
   "metadata": {},
   "source": [
    "Define a function **`contains_queen_of_hearts()`** that takes in a list of cards (e.g., a hand) and returns whether or not the Queen of Hearts is in that list. _For practice, don't use the `in` operator to check for containment_."
   ]
  },
  {
   "cell_type": "code",
   "execution_count": 51,
   "metadata": {},
   "outputs": [],
   "source": [
    "def contains_queen_of_hearts(cards_list):\n",
    "      # return((12,'hearts') in cards_list)\n",
    " \n",
    "    for card_tuple in cards_list:\n",
    "         if ((card_tuple[0] == 12) and card_tuple[1] == 'hearts'):\n",
    "                return True\n",
    "    return False      \n",
    "  "
   ]
  },
  {
   "cell_type": "code",
   "execution_count": 52,
   "metadata": {},
   "outputs": [
    {
     "data": {
      "text/plain": [
       "True"
      ]
     },
     "execution_count": 52,
     "metadata": {},
     "output_type": "execute_result"
    }
   ],
   "source": [
    "contains_queen_of_hearts([(12,'hearts')])"
   ]
  },
  {
   "cell_type": "markdown",
   "metadata": {},
   "source": [
    "Define a function **`get_high_card()`** that takes in a list of cards and returns the card (tuple) of the highest value. The \"high card\" is the one with the highest rank. Cards of different suits but the same rank are considered to have the same value and either may be returned.\n",
    "- Hint: use a \"king-of-the-hill\" search!"
   ]
  },
  {
   "cell_type": "code",
   "execution_count": 95,
   "metadata": {},
   "outputs": [],
   "source": [
    "def get_high_card(cards_list):\n",
    "    high_card = cards_list[0]\n",
    "    for card in cards_list:\n",
    "        if(card[0] > high_card[0]): #when you say card[0,you're already referring to first tuple]\n",
    "             high_card = card\n",
    "        return high_card        \n",
    "#     high_card_tuple = cards_list[0]\n",
    "#     high_card = high_card_tuple[0]\n",
    "#     for card_tuple in cards_list:\n",
    "#         card_rank = card_tuple[0]\n",
    "      \n",
    "#         if(card_rank > high_card):\n",
    "#             high_card = card_rank\n",
    "#             high_card_tuple = (high_card,card_tuple[1])\n",
    "#     return high_card_tuple        \n",
    "    "
   ]
  },
  {
   "cell_type": "code",
   "execution_count": 97,
   "metadata": {},
   "outputs": [
    {
     "name": "stdout",
     "output_type": "stream",
     "text": [
      "[(10, 'hearts'), (8, 'clubs'), (10, 'spades'), (6, 'hearts'), (2, 'diamonds')]\n"
     ]
    },
    {
     "data": {
      "text/plain": [
       "(10, 'hearts')"
      ]
     },
     "execution_count": 97,
     "metadata": {},
     "output_type": "execute_result"
    }
   ],
   "source": [
    "import random\n",
    "random.shuffle(deck)\n",
    "hand = deck[:5]\n",
    "\n",
    "print(hand)\n",
    "get_high_card(hand)"
   ]
  },
  {
   "cell_type": "markdown",
   "metadata": {},
   "source": [
    "Define a function **`is_flush()`** that takes in a list of cards and returns whether or not the list represents a _flush_&mdash;that is, all of the cards have the same _suit_."
   ]
  },
  {
   "cell_type": "code",
   "execution_count": 87,
   "metadata": {},
   "outputs": [],
   "source": [
    "def is_flush(cards_list):\n",
    "    suit = cards_list[0][1]\n",
    "    for card in cards_list:\n",
    "        if card[1] != suit:\n",
    "            return False\n",
    "        return True\n",
    "#     suits = []\n",
    "#     for card_tuple in cards_list:\n",
    "#         suits.append(card_tuple[1])\n",
    "#     i = 0    \n",
    "#     while (i < (len(suits)-1)):\n",
    "#         if suits[i] != suits[i+1]:\n",
    "#             return False\n",
    "#         i = i + 1\n",
    "#     return True  \n"
   ]
  },
  {
   "cell_type": "code",
   "execution_count": null,
   "metadata": {},
   "outputs": [],
   "source": [
    "hand=[(1,'hearts'),(2,'hearts'),(3,'hearts')]\n",
    "is_flush(hand)"
   ]
  },
  {
   "cell_type": "markdown",
   "metadata": {},
   "source": [
    "_Challenge_: Define a functon **`has_pair()`** that takes in a list of cards and returns whether or not there is at least one _pair_ (two cards with the same _rank_) in the list.\n",
    "\n",
    "_Bonus challenge:_ Return the rank of the pair of cards with the highest rank (e.g., if there is more than one pair!) "
   ]
  },
  {
   "cell_type": "code",
   "execution_count": 110,
   "metadata": {},
   "outputs": [],
   "source": [
    "def has_pair(card_list):\n",
    "    for i in range(len(card_list)-1):\n",
    "        card_tuple1 = card_list[i]\n",
    "        for card in card_list[i+1:]:\n",
    "            print(card_tuple1)\n",
    "            print(card)\n",
    "            if(card_tuple1[0] == card[0]):\n",
    "                return True\n",
    "        return False    \n",
    "            \n",
    "        \n",
    "        "
   ]
  },
  {
   "cell_type": "code",
   "execution_count": 113,
   "metadata": {},
   "outputs": [
    {
     "name": "stdout",
     "output_type": "stream",
     "text": [
      "[(9, 'spades'), (14, 'spades'), (8, 'spades'), (5, 'clubs'), (12, 'clubs')]\n",
      "(9, 'spades')\n",
      "(14, 'spades')\n",
      "(9, 'spades')\n",
      "(8, 'spades')\n",
      "(9, 'spades')\n",
      "(5, 'clubs')\n",
      "(9, 'spades')\n",
      "(12, 'clubs')\n"
     ]
    },
    {
     "data": {
      "text/plain": [
       "False"
      ]
     },
     "execution_count": 113,
     "metadata": {},
     "output_type": "execute_result"
    }
   ],
   "source": [
    "import random\n",
    "random.shuffle(deck)\n",
    "hand = deck[:5]\n",
    "\n",
    "print(hand)\n",
    "has_pair(hand)"
   ]
  },
  {
   "cell_type": "code",
   "execution_count": 124,
   "metadata": {},
   "outputs": [],
   "source": [
    "def highest_rank_pair(card_list):\n",
    "    pairs_list = []\n",
    "   # rank_tuple = ()\n",
    "    for i in range(len(card_list)-1):\n",
    "        card_tuple = card_list[i]\n",
    "        for card in card_list[i+1:]:\n",
    "#             print(card_tuple)\n",
    "#             print(card)\n",
    "            if(card_tuple[0] == card[0]):\n",
    "                pairs_list.append(card_tuple[0])\n",
    "    print(pairs_list)            \n",
    "    return max(pairs_list)    \n",
    "            \n"
   ]
  },
  {
   "cell_type": "code",
   "execution_count": 125,
   "metadata": {},
   "outputs": [
    {
     "name": "stdout",
     "output_type": "stream",
     "text": [
      "[9, 14]\n"
     ]
    },
    {
     "data": {
      "text/plain": [
       "14"
      ]
     },
     "execution_count": 125,
     "metadata": {},
     "output_type": "execute_result"
    }
   ],
   "source": [
    "hand = [(9, 'spades'), (14, 'spades'), (8, 'spades'), (5, 'clubs'), (12, 'clubs'),\n",
    "         (9,'hearts'),(14,'hearts')]\n",
    "highest_rank_pair(hand)"
   ]
  },
  {
   "cell_type": "code",
   "execution_count": null,
   "metadata": {},
   "outputs": [],
   "source": []
  }
 ],
 "metadata": {
  "kernelspec": {
   "display_name": "Python 3 (ipykernel)",
   "language": "python",
   "name": "python3"
  },
  "language_info": {
   "codemirror_mode": {
    "name": "ipython",
    "version": 3
   },
   "file_extension": ".py",
   "mimetype": "text/x-python",
   "name": "python",
   "nbconvert_exporter": "python",
   "pygments_lexer": "ipython3",
   "version": "3.9.7"
  },
  "toc": {
   "colors": {
    "hover_highlight": "#DAA520",
    "running_highlight": "#FF0000",
    "selected_highlight": "#FFD700"
   },
   "moveMenuLeft": true,
   "nav_menu": {
    "height": "30px",
    "width": "252px"
   },
   "navigate_menu": true,
   "number_sections": true,
   "sideBar": true,
   "threshold": 4,
   "toc_cell": false,
   "toc_section_display": "block",
   "toc_window_display": false,
   "widenNotebook": false
  }
 },
 "nbformat": 4,
 "nbformat_minor": 2
}

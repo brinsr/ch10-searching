{
 "cells": [
  {
   "cell_type": "markdown",
   "metadata": {},
   "source": [
    "# Exercise 2\n",
    "Add the specified code for each code cell, running the cells _in order_."
   ]
  },
  {
   "cell_type": "markdown",
   "metadata": {},
   "source": [
    "Create the following variables:\n",
    "\n",
    "- A (constant) variable **`LIST_SIZE`** that will represent the size of a list. Give this constant a value of **`10`**.\n",
    "\n",
    "- A list **`numbers`** that is a list of `LIST_SIZE` numbers randomly chosen from between `0` and `LIST_SIZE**2` (the square of the list size). Use the `random.sample()` function to chose this list.\n",
    "\n",
    "- A list **`targets`** that is a list of `1000` numbers randomly chosen from between `0` and `LIST_SIZE**2`. Use the `random.choices()` function to chose \"with replacement\" (allowing you to have repeated items within your list of 1000)."
   ]
  },
  {
   "cell_type": "code",
   "execution_count": 1,
   "metadata": {},
   "outputs": [],
   "source": [
    "import random\n",
    "LIST_SIZE = 100\n",
    "numbers = random.sample(range(LIST_SIZE**2),LIST_SIZE)\n",
    "targets = random.choices(range(LIST_SIZE**2),k=1000)\n",
    "#print(numbers)\n"
   ]
  },
  {
   "cell_type": "markdown",
   "metadata": {},
   "source": [
    "Define a function **`linear_search()`** that takes in a list and a target value, performs a linear search for that target, and returns the index of that target in the list (or -1 if the target is not in the list)."
   ]
  },
  {
   "cell_type": "code",
   "execution_count": 2,
   "metadata": {},
   "outputs": [],
   "source": [
    "def linear_search(numbers_list,target_value):\n",
    "    for index_number in range(len(numbers_list)):\n",
    "        if(numbers_list[index_number] == target_value):\n",
    "            return index_number\n",
    "    return -1    \n",
    "        "
   ]
  },
  {
   "cell_type": "markdown",
   "metadata": {},
   "source": [
    "Import the Python [time](https://docs.python.org/3/library/time.html) module. The `time.time()` function will return the \"current\" time (in seconds since \"Unix epoch\", [Jan 01, 1970](https://en.wikipedia.org/wiki/Unix_time)).\n",
    "\n",
    "Print out the current time in seconds since epoch."
   ]
  },
  {
   "cell_type": "code",
   "execution_count": 3,
   "metadata": {},
   "outputs": [
    {
     "name": "stdout",
     "output_type": "stream",
     "text": [
      "1649976244.6442118\n"
     ]
    }
   ],
   "source": [
    "import time\n",
    "print(time.time())"
   ]
  },
  {
   "cell_type": "markdown",
   "metadata": {},
   "source": [
    "Use the `time.time()` function to \"time\" how long it takes to **linear search** the `numbers` list for each of the 1000 values in `targets`. Save the `time.time()` start time immediately before doing these searches, and then save the `time.time()` end time immediately afterwards. Print out the elapsed time for the 1000 searches (in seconds)."
   ]
  },
  {
   "cell_type": "code",
   "execution_count": 4,
   "metadata": {},
   "outputs": [
    {
     "name": "stdout",
     "output_type": "stream",
     "text": [
      "0.005097627639770508\n"
     ]
    }
   ],
   "source": [
    "import time\n",
    "#indices_list=[]\n",
    "start_time = time.time()\n",
    "for target in targets:\n",
    "    linear_search(numbers,target)\n",
    "   # indices_list.append(index)\n",
    "end_time = time.time()\n",
    "#print(indices_list)\n",
    "print(end_time - start_time)"
   ]
  },
  {
   "cell_type": "markdown",
   "metadata": {},
   "source": [
    "Below is a function from the course text that performs a **binary search**."
   ]
  },
  {
   "cell_type": "code",
   "execution_count": 5,
   "metadata": {},
   "outputs": [],
   "source": [
    "def binary_search(a_list, target):\n",
    "    \"\"\"Searches the given SORTED list for the given target value.\n",
    "       Returns the index of the target, or -1 if target not in the list\"\"\"\n",
    "\n",
    "    start_index = 0 # initial goalposts\n",
    "    end_index = len(a_list)-1\n",
    "\n",
    "    while start_index <= end_index:  # at least one thing to look at\n",
    "        middle_index = (start_index + end_index) // 2  # middle (integer) index\n",
    "\n",
    "        if(a_list[middle_index] == target):\n",
    "            return middle_index  # found the item!\n",
    "        elif target > a_list[middle_index]:\n",
    "            start_index = middle_index+1  # move goalpost\n",
    "        else:\n",
    "            end_index = middle_index-1  # move goalpost\n",
    "\n",
    "    return -1  # did not find the item"
   ]
  },
  {
   "cell_type": "markdown",
   "metadata": {},
   "source": [
    "Use the `time.time()` function to \"time\" how long it takes to **binary search** the `numbers` list for each of the 1000 values in `targets`. Save the `time.time()` start time immediately before doing these searches, and then save the `time.time()` end time immediately afterwards. Print out the elapsed time for the 1000 searches (in seconds).\n",
    "- Remember that a binary search needs a **sorted** list, so you should `sort()` the numbers _BEFORE_ you time the searches!"
   ]
  },
  {
   "cell_type": "code",
   "execution_count": 6,
   "metadata": {},
   "outputs": [
    {
     "name": "stdout",
     "output_type": "stream",
     "text": [
      "1649976244.6807058\n",
      "0.0\n"
     ]
    }
   ],
   "source": [
    "import time\n",
    "numbers.sort()\n",
    "start_time = time.time()\n",
    "for target in targets:\n",
    "    \n",
    "     binary_search(numbers,target)\n",
    "   # indices_list.append(index)\n",
    "end_time = time.time()\n",
    "#print(indices_list)\n",
    "print(start_time)\n",
    "print(end_time-start_time)"
   ]
  },
  {
   "cell_type": "markdown",
   "metadata": {},
   "source": [
    "Define a function **`selection_search()`** that takes in a list and performs an in-place _selection sort_ on that list, thereby sorting it."
   ]
  },
  {
   "cell_type": "code",
   "execution_count": 7,
   "metadata": {},
   "outputs": [],
   "source": [
    "def selection_search(a_list):\n",
    "    for i in range(len(a_list)):\n",
    "        selected_index = i\n",
    "        for j in range(i,len(a_list)):\n",
    "            if(a_list[j] > a_list[selected_index]):\n",
    "                selected_index = j\n",
    "              \n",
    "       \n",
    "            "
   ]
  },
  {
   "cell_type": "markdown",
   "metadata": {},
   "source": [
    "Use the `time.time()` function to \"time\" how long it takes to **selection sort** the `numbers` list Save the `time.time()` start time immediately before sorting, and then save the `time.time()` end time immediately afterwards. Print out the elapsed time (in seconds).\n",
    "- You should `random.shuffle()` the list before you sort it (since it is sorted from the binary search)\n",
    "- Multiple the time elapsed by 1000 to be able to compare with the 1000 search tests performed earlier."
   ]
  },
  {
   "cell_type": "code",
   "execution_count": 8,
   "metadata": {},
   "outputs": [
    {
     "name": "stdout",
     "output_type": "stream",
     "text": [
      "0.29021310806274414\n"
     ]
    }
   ],
   "source": [
    "import time\n",
    "random.shuffle(numbers)\n",
    "start_time = time.time()\n",
    "for target in targets:\n",
    "    selection_search(numbers)\n",
    "end_time = time.time()\n",
    "#print(indices_list)\n",
    "#print(start_time)\n",
    "print(end_time-start_time)"
   ]
  },
  {
   "cell_type": "markdown",
   "metadata": {},
   "source": [
    "**DO THIS** Change the `LIST_SIZE` variable to `100` and re-run the entire notebook. What changes do you see to the timer results? Try with a `LIST_SIZE` of `1000` and `10000` (the later will take a few seconds to sort!)"
   ]
  }
 ],
 "metadata": {
  "kernelspec": {
   "display_name": "Python 3 (ipykernel)",
   "language": "python",
   "name": "python3"
  },
  "language_info": {
   "codemirror_mode": {
    "name": "ipython",
    "version": 3
   },
   "file_extension": ".py",
   "mimetype": "text/x-python",
   "name": "python",
   "nbconvert_exporter": "python",
   "pygments_lexer": "ipython3",
   "version": "3.9.7"
  },
  "toc": {
   "colors": {
    "hover_highlight": "#DAA520",
    "running_highlight": "#FF0000",
    "selected_highlight": "#FFD700"
   },
   "moveMenuLeft": true,
   "nav_menu": {
    "height": "30px",
    "width": "252px"
   },
   "navigate_menu": true,
   "number_sections": true,
   "sideBar": true,
   "threshold": 4,
   "toc_cell": false,
   "toc_section_display": "block",
   "toc_window_display": false,
   "widenNotebook": false
  }
 },
 "nbformat": 4,
 "nbformat_minor": 2
}
